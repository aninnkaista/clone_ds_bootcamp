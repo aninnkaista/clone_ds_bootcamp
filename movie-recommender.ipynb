{
    "cells": [
        {
            "cell_type": "code",
            "execution_count": 1,
            "metadata": {},
            "outputs": [],
            "source": "# Test"
        },
        {
            "cell_type": "code",
            "execution_count": 81,
            "metadata": {},
            "outputs": [],
            "source": "#Math functions, we'll only need the sqrt function so let's import only that\nfrom math import sqrt\nimport numpy as np\nimport matplotlib.pyplot as plt\n%matplotlib inline"
        },
        {
            "cell_type": "markdown",
            "metadata": {},
            "source": "# Prepocessing"
        },
        {
            "cell_type": "markdown",
            "metadata": {},
            "source": "First, let's get all of the imports out of the way:"
        },
        {
            "cell_type": "markdown",
            "metadata": {},
            "source": "## USERS "
        },
        {
            "cell_type": "code",
            "execution_count": 71,
            "metadata": {},
            "outputs": [
                {
                    "data": {
                        "text/html": "<div>\n<style scoped>\n    .dataframe tbody tr th:only-of-type {\n        vertical-align: middle;\n    }\n\n    .dataframe tbody tr th {\n        vertical-align: top;\n    }\n\n    .dataframe thead th {\n        text-align: right;\n    }\n</style>\n<table border=\"1\" class=\"dataframe\">\n  <thead>\n    <tr style=\"text-align: right;\">\n      <th></th>\n      <th>user_id</th>\n      <th>gender</th>\n      <th>age</th>\n      <th>occupation</th>\n      <th>zipcode</th>\n      <th>age_desc</th>\n      <th>occ_desc</th>\n    </tr>\n  </thead>\n  <tbody>\n    <tr>\n      <th>0</th>\n      <td>1</td>\n      <td>F</td>\n      <td>1</td>\n      <td>10</td>\n      <td>48067</td>\n      <td>Under 18</td>\n      <td>K-12 student</td>\n    </tr>\n    <tr>\n      <th>1</th>\n      <td>2</td>\n      <td>M</td>\n      <td>56</td>\n      <td>16</td>\n      <td>70072</td>\n      <td>56+</td>\n      <td>self-employed</td>\n    </tr>\n    <tr>\n      <th>2</th>\n      <td>3</td>\n      <td>M</td>\n      <td>25</td>\n      <td>15</td>\n      <td>55117</td>\n      <td>25-34</td>\n      <td>scientist</td>\n    </tr>\n    <tr>\n      <th>3</th>\n      <td>4</td>\n      <td>M</td>\n      <td>45</td>\n      <td>7</td>\n      <td>2460</td>\n      <td>45-49</td>\n      <td>executive/managerial</td>\n    </tr>\n    <tr>\n      <th>4</th>\n      <td>5</td>\n      <td>M</td>\n      <td>25</td>\n      <td>20</td>\n      <td>55455</td>\n      <td>25-34</td>\n      <td>writer</td>\n    </tr>\n    <tr>\n      <th>5</th>\n      <td>6</td>\n      <td>F</td>\n      <td>50</td>\n      <td>9</td>\n      <td>55117</td>\n      <td>50-55</td>\n      <td>homemaker</td>\n    </tr>\n    <tr>\n      <th>6</th>\n      <td>7</td>\n      <td>M</td>\n      <td>35</td>\n      <td>1</td>\n      <td>6810</td>\n      <td>35-44</td>\n      <td>academic/educator</td>\n    </tr>\n    <tr>\n      <th>7</th>\n      <td>8</td>\n      <td>M</td>\n      <td>25</td>\n      <td>12</td>\n      <td>11413</td>\n      <td>25-34</td>\n      <td>programmer</td>\n    </tr>\n    <tr>\n      <th>8</th>\n      <td>9</td>\n      <td>M</td>\n      <td>25</td>\n      <td>17</td>\n      <td>61614</td>\n      <td>25-34</td>\n      <td>technician/engineer</td>\n    </tr>\n    <tr>\n      <th>9</th>\n      <td>10</td>\n      <td>F</td>\n      <td>35</td>\n      <td>1</td>\n      <td>95370</td>\n      <td>35-44</td>\n      <td>academic/educator</td>\n    </tr>\n  </tbody>\n</table>\n</div>",
                        "text/plain": "   user_id gender  age  occupation zipcode  age_desc              occ_desc\n0        1      F    1          10   48067  Under 18          K-12 student\n1        2      M   56          16   70072       56+         self-employed\n2        3      M   25          15   55117     25-34             scientist\n3        4      M   45           7    2460     45-49  executive/managerial\n4        5      M   25          20   55455     25-34                writer\n5        6      F   50           9   55117     50-55             homemaker\n6        7      M   35           1    6810     35-44     academic/educator\n7        8      M   25          12   11413     25-34            programmer\n8        9      M   25          17   61614     25-34   technician/engineer\n9       10      F   35           1   95370     35-44     academic/educator"
                    },
                    "execution_count": 71,
                    "metadata": {},
                    "output_type": "execute_result"
                }
            ],
            "source": "# The code was removed by Watson Studio for sharing."
        },
        {
            "cell_type": "code",
            "execution_count": null,
            "metadata": {},
            "outputs": [],
            "source": ""
        },
        {
            "cell_type": "markdown",
            "metadata": {},
            "source": "## RATINGS"
        },
        {
            "cell_type": "code",
            "execution_count": 72,
            "metadata": {},
            "outputs": [
                {
                    "name": "stderr",
                    "output_type": "stream",
                    "text": "/opt/conda/envs/Python-3.7-OpenCE/lib/python3.7/site-packages/numpy/lib/arraysetops.py:580: FutureWarning: elementwise comparison failed; returning scalar instead, but in the future will perform elementwise comparison\n  mask |= (ar1 == a)\n"
                },
                {
                    "data": {
                        "text/html": "<div>\n<style scoped>\n    .dataframe tbody tr th:only-of-type {\n        vertical-align: middle;\n    }\n\n    .dataframe tbody tr th {\n        vertical-align: top;\n    }\n\n    .dataframe thead th {\n        text-align: right;\n    }\n</style>\n<table border=\"1\" class=\"dataframe\">\n  <thead>\n    <tr style=\"text-align: right;\">\n      <th></th>\n      <th>user_id</th>\n      <th>movie_id</th>\n      <th>rating</th>\n      <th>timestamp</th>\n      <th>user_emb_id</th>\n      <th>movie_emb_id</th>\n    </tr>\n  </thead>\n  <tbody>\n    <tr>\n      <th>0</th>\n      <td>1</td>\n      <td>1193</td>\n      <td>5</td>\n      <td>978300760</td>\n      <td>0</td>\n      <td>1192</td>\n    </tr>\n    <tr>\n      <th>1</th>\n      <td>1</td>\n      <td>661</td>\n      <td>3</td>\n      <td>978302109</td>\n      <td>0</td>\n      <td>660</td>\n    </tr>\n    <tr>\n      <th>2</th>\n      <td>1</td>\n      <td>914</td>\n      <td>3</td>\n      <td>978301968</td>\n      <td>0</td>\n      <td>913</td>\n    </tr>\n    <tr>\n      <th>3</th>\n      <td>1</td>\n      <td>3408</td>\n      <td>4</td>\n      <td>978300275</td>\n      <td>0</td>\n      <td>3407</td>\n    </tr>\n    <tr>\n      <th>4</th>\n      <td>1</td>\n      <td>2355</td>\n      <td>5</td>\n      <td>978824291</td>\n      <td>0</td>\n      <td>2354</td>\n    </tr>\n    <tr>\n      <th>5</th>\n      <td>1</td>\n      <td>1197</td>\n      <td>3</td>\n      <td>978302268</td>\n      <td>0</td>\n      <td>1196</td>\n    </tr>\n    <tr>\n      <th>6</th>\n      <td>1</td>\n      <td>1287</td>\n      <td>5</td>\n      <td>978302039</td>\n      <td>0</td>\n      <td>1286</td>\n    </tr>\n    <tr>\n      <th>7</th>\n      <td>1</td>\n      <td>2804</td>\n      <td>5</td>\n      <td>978300719</td>\n      <td>0</td>\n      <td>2803</td>\n    </tr>\n    <tr>\n      <th>8</th>\n      <td>1</td>\n      <td>594</td>\n      <td>4</td>\n      <td>978302268</td>\n      <td>0</td>\n      <td>593</td>\n    </tr>\n    <tr>\n      <th>9</th>\n      <td>1</td>\n      <td>919</td>\n      <td>4</td>\n      <td>978301368</td>\n      <td>0</td>\n      <td>918</td>\n    </tr>\n  </tbody>\n</table>\n</div>",
                        "text/plain": "   user_id  movie_id  rating  timestamp  user_emb_id  movie_emb_id\n0        1      1193       5  978300760            0          1192\n1        1       661       3  978302109            0           660\n2        1       914       3  978301968            0           913\n3        1      3408       4  978300275            0          3407\n4        1      2355       5  978824291            0          2354\n5        1      1197       3  978302268            0          1196\n6        1      1287       5  978302039            0          1286\n7        1      2804       5  978300719            0          2803\n8        1       594       4  978302268            0           593\n9        1       919       4  978301368            0           918"
                    },
                    "execution_count": 72,
                    "metadata": {},
                    "output_type": "execute_result"
                }
            ],
            "source": "body = client_dc9ddb978841432ba58f9e610c697598.get_object(Bucket='mvpteamorange-donotdelete-pr-2zh4qs0w6rau5m',Key='ratings.csv')['Body']\n# add missing __iter__ method, so pandas accepts body as file-like object\nif not hasattr(body, \"__iter__\"): body.__iter__ = types.MethodType( __iter__, body )\n\nratings = pd.read_csv(body, index_col=0)\nratings.head(10)\n"
        },
        {
            "cell_type": "code",
            "execution_count": 73,
            "metadata": {},
            "outputs": [
                {
                    "data": {
                        "text/plain": "movie_id\n402        1\n2214       1\n3382       1\n2217       1\n2218       1\n        ... \n480     2672\n1210    2883\n1196    2990\n260     2991\n2858    3428\nName: rating, Length: 3706, dtype: int64"
                    },
                    "execution_count": 73,
                    "metadata": {},
                    "output_type": "execute_result"
                }
            ],
            "source": "ratings.groupby(['movie_id'])['rating'].count().sort_values(ascending=True)"
        },
        {
            "cell_type": "markdown",
            "metadata": {},
            "source": "Every row in the ratings dataframe has a user id associated with at least one movie, a rating and a timestamp showing when they reviewed it. We won't be needing the timestamp, user_emb_id and movie_emb_id column, so let's drop it to save on memory."
        },
        {
            "cell_type": "code",
            "execution_count": 86,
            "metadata": {},
            "outputs": [
                {
                    "data": {
                        "text/html": "<div>\n<style scoped>\n    .dataframe tbody tr th:only-of-type {\n        vertical-align: middle;\n    }\n\n    .dataframe tbody tr th {\n        vertical-align: top;\n    }\n\n    .dataframe thead th {\n        text-align: right;\n    }\n</style>\n<table border=\"1\" class=\"dataframe\">\n  <thead>\n    <tr style=\"text-align: right;\">\n      <th></th>\n      <th>user_id</th>\n      <th>movie_id</th>\n      <th>rating</th>\n    </tr>\n  </thead>\n  <tbody>\n    <tr>\n      <th>0</th>\n      <td>1</td>\n      <td>1193</td>\n      <td>5</td>\n    </tr>\n    <tr>\n      <th>1</th>\n      <td>1</td>\n      <td>661</td>\n      <td>3</td>\n    </tr>\n    <tr>\n      <th>2</th>\n      <td>1</td>\n      <td>914</td>\n      <td>3</td>\n    </tr>\n    <tr>\n      <th>3</th>\n      <td>1</td>\n      <td>3408</td>\n      <td>4</td>\n    </tr>\n    <tr>\n      <th>4</th>\n      <td>1</td>\n      <td>2355</td>\n      <td>5</td>\n    </tr>\n  </tbody>\n</table>\n</div>",
                        "text/plain": "   user_id  movie_id  rating\n0        1      1193       5\n1        1       661       3\n2        1       914       3\n3        1      3408       4\n4        1      2355       5"
                    },
                    "execution_count": 86,
                    "metadata": {},
                    "output_type": "execute_result"
                }
            ],
            "source": "#Drop removes a specified row or column from a dataframe\nratings = ratings.drop(['timestamp','user_emb_id','movie_emb_id'], axis=1)\nratings.head()"
        },
        {
            "cell_type": "markdown",
            "metadata": {},
            "source": "## MOVIES"
        },
        {
            "cell_type": "code",
            "execution_count": 78,
            "metadata": {},
            "outputs": [
                {
                    "data": {
                        "text/html": "<div>\n<style scoped>\n    .dataframe tbody tr th:only-of-type {\n        vertical-align: middle;\n    }\n\n    .dataframe tbody tr th {\n        vertical-align: top;\n    }\n\n    .dataframe thead th {\n        text-align: right;\n    }\n</style>\n<table border=\"1\" class=\"dataframe\">\n  <thead>\n    <tr style=\"text-align: right;\">\n      <th></th>\n      <th>movie_id</th>\n      <th>title</th>\n      <th>genres</th>\n    </tr>\n  </thead>\n  <tbody>\n    <tr>\n      <th>0</th>\n      <td>1</td>\n      <td>Toy Story (1995)</td>\n      <td>Animation|Children's|Comedy</td>\n    </tr>\n    <tr>\n      <th>1</th>\n      <td>2</td>\n      <td>Jumanji (1995)</td>\n      <td>Adventure|Children's|Fantasy</td>\n    </tr>\n    <tr>\n      <th>2</th>\n      <td>3</td>\n      <td>Grumpier Old Men (1995)</td>\n      <td>Comedy|Romance</td>\n    </tr>\n    <tr>\n      <th>3</th>\n      <td>4</td>\n      <td>Waiting to Exhale (1995)</td>\n      <td>Comedy|Drama</td>\n    </tr>\n    <tr>\n      <th>4</th>\n      <td>5</td>\n      <td>Father of the Bride Part II (1995)</td>\n      <td>Comedy</td>\n    </tr>\n    <tr>\n      <th>5</th>\n      <td>6</td>\n      <td>Heat (1995)</td>\n      <td>Action|Crime|Thriller</td>\n    </tr>\n    <tr>\n      <th>6</th>\n      <td>7</td>\n      <td>Sabrina (1995)</td>\n      <td>Comedy|Romance</td>\n    </tr>\n    <tr>\n      <th>7</th>\n      <td>8</td>\n      <td>Tom and Huck (1995)</td>\n      <td>Adventure|Children's</td>\n    </tr>\n    <tr>\n      <th>8</th>\n      <td>9</td>\n      <td>Sudden Death (1995)</td>\n      <td>Action</td>\n    </tr>\n    <tr>\n      <th>9</th>\n      <td>10</td>\n      <td>GoldenEye (1995)</td>\n      <td>Action|Adventure|Thriller</td>\n    </tr>\n  </tbody>\n</table>\n</div>",
                        "text/plain": "   movie_id                               title                        genres\n0         1                    Toy Story (1995)   Animation|Children's|Comedy\n1         2                      Jumanji (1995)  Adventure|Children's|Fantasy\n2         3             Grumpier Old Men (1995)                Comedy|Romance\n3         4            Waiting to Exhale (1995)                  Comedy|Drama\n4         5  Father of the Bride Part II (1995)                        Comedy\n5         6                         Heat (1995)         Action|Crime|Thriller\n6         7                      Sabrina (1995)                Comedy|Romance\n7         8                 Tom and Huck (1995)          Adventure|Children's\n8         9                 Sudden Death (1995)                        Action\n9        10                    GoldenEye (1995)     Action|Adventure|Thriller"
                    },
                    "execution_count": 78,
                    "metadata": {},
                    "output_type": "execute_result"
                }
            ],
            "source": "\nbody = client_dc9ddb978841432ba58f9e610c697598.get_object(Bucket='mvpteamorange-donotdelete-pr-2zh4qs0w6rau5m',Key='data_asset/movies_csv_shaped_1eo108tfl798vonnir5r3xcec')['Body']\n# add missing __iter__ method, so pandas accepts body as file-like object\nif not hasattr(body, \"__iter__\"): body.__iter__ = types.MethodType( __iter__, body )\n\nmovies = pd.read_csv(body)\nmovies.head(10)\n"
        },
        {
            "cell_type": "markdown",
            "metadata": {},
            "source": "Let's also remove the year from the **title** column by using pandas' replace function and store in a new **year** column."
        },
        {
            "cell_type": "code",
            "execution_count": 80,
            "metadata": {},
            "outputs": [
                {
                    "data": {
                        "text/html": "<div>\n<style scoped>\n    .dataframe tbody tr th:only-of-type {\n        vertical-align: middle;\n    }\n\n    .dataframe tbody tr th {\n        vertical-align: top;\n    }\n\n    .dataframe thead th {\n        text-align: right;\n    }\n</style>\n<table border=\"1\" class=\"dataframe\">\n  <thead>\n    <tr style=\"text-align: right;\">\n      <th></th>\n      <th>movie_id</th>\n      <th>title</th>\n      <th>genres</th>\n      <th>year</th>\n    </tr>\n  </thead>\n  <tbody>\n    <tr>\n      <th>0</th>\n      <td>1</td>\n      <td>Toy Story</td>\n      <td>Animation|Children's|Comedy</td>\n      <td>1995</td>\n    </tr>\n    <tr>\n      <th>1</th>\n      <td>2</td>\n      <td>Jumanji</td>\n      <td>Adventure|Children's|Fantasy</td>\n      <td>1995</td>\n    </tr>\n    <tr>\n      <th>2</th>\n      <td>3</td>\n      <td>Grumpier Old Men</td>\n      <td>Comedy|Romance</td>\n      <td>1995</td>\n    </tr>\n    <tr>\n      <th>3</th>\n      <td>4</td>\n      <td>Waiting to Exhale</td>\n      <td>Comedy|Drama</td>\n      <td>1995</td>\n    </tr>\n    <tr>\n      <th>4</th>\n      <td>5</td>\n      <td>Father of the Bride Part II</td>\n      <td>Comedy</td>\n      <td>1995</td>\n    </tr>\n  </tbody>\n</table>\n</div>",
                        "text/plain": "   movie_id                        title                        genres  year\n0         1                    Toy Story   Animation|Children's|Comedy  1995\n1         2                      Jumanji  Adventure|Children's|Fantasy  1995\n2         3             Grumpier Old Men                Comedy|Romance  1995\n3         4            Waiting to Exhale                  Comedy|Drama  1995\n4         5  Father of the Bride Part II                        Comedy  1995"
                    },
                    "execution_count": 80,
                    "metadata": {},
                    "output_type": "execute_result"
                }
            ],
            "source": "#Using regular expressions to find a year stored between parentheses\n#We specify the parantheses so we don't conflict with movies that have years in their titles\nmovies['year'] = movies.title.str.extract('(\\(\\d\\d\\d\\d\\))',expand=False)\n#Removing the parentheses\nmovies['year'] = movies.year.str.extract('(\\d\\d\\d\\d)',expand=False)\n#Removing the years from the 'title' column\nmovies['title'] = movies.title.str.replace('(\\(\\d\\d\\d\\d\\))', '')\n#Applying the strip function to get rid of any ending whitespace characters that may have appeared\nmovies['title'] = movies['title'].apply(lambda x: x.strip())\nmovies.head()"
        },
        {
            "cell_type": "code",
            "execution_count": 83,
            "metadata": {},
            "outputs": [
                {
                    "data": {
                        "text/html": "<div>\n<style scoped>\n    .dataframe tbody tr th:only-of-type {\n        vertical-align: middle;\n    }\n\n    .dataframe tbody tr th {\n        vertical-align: top;\n    }\n\n    .dataframe thead th {\n        text-align: right;\n    }\n</style>\n<table border=\"1\" class=\"dataframe\">\n  <thead>\n    <tr style=\"text-align: right;\">\n      <th></th>\n      <th>movie_id</th>\n      <th>title</th>\n      <th>genres</th>\n      <th>year</th>\n    </tr>\n  </thead>\n  <tbody>\n    <tr>\n      <th>0</th>\n      <td>1</td>\n      <td>Toy Story</td>\n      <td>[Animation, Children's, Comedy]</td>\n      <td>1995</td>\n    </tr>\n    <tr>\n      <th>1</th>\n      <td>2</td>\n      <td>Jumanji</td>\n      <td>[Adventure, Children's, Fantasy]</td>\n      <td>1995</td>\n    </tr>\n    <tr>\n      <th>2</th>\n      <td>3</td>\n      <td>Grumpier Old Men</td>\n      <td>[Comedy, Romance]</td>\n      <td>1995</td>\n    </tr>\n    <tr>\n      <th>3</th>\n      <td>4</td>\n      <td>Waiting to Exhale</td>\n      <td>[Comedy, Drama]</td>\n      <td>1995</td>\n    </tr>\n    <tr>\n      <th>4</th>\n      <td>5</td>\n      <td>Father of the Bride Part II</td>\n      <td>[Comedy]</td>\n      <td>1995</td>\n    </tr>\n  </tbody>\n</table>\n</div>",
                        "text/plain": "   movie_id                        title                            genres  \\\n0         1                    Toy Story   [Animation, Children's, Comedy]   \n1         2                      Jumanji  [Adventure, Children's, Fantasy]   \n2         3             Grumpier Old Men                 [Comedy, Romance]   \n3         4            Waiting to Exhale                   [Comedy, Drama]   \n4         5  Father of the Bride Part II                          [Comedy]   \n\n   year  \n0  1995  \n1  1995  \n2  1995  \n3  1995  \n4  1995  "
                    },
                    "execution_count": 83,
                    "metadata": {},
                    "output_type": "execute_result"
                }
            ],
            "source": "#Every genre is separated by a | so we simply have to call the split function on |\nmovies['genres'] = movies.genres.str.split('|')\nmovies.head()"
        },
        {
            "cell_type": "markdown",
            "metadata": {},
            "source": "Since keeping genres in a list format isn't optimal for the content-based recommendation system technique, we will use the One Hot Encoding technique to convert the list of genres to a vector where each column corresponds to one possible value of the feature. This encoding is needed for feeding categorical data. In this case, we store every different genre in columns that contain either 1 or 0. 1 shows that a movie has that genre and 0 shows that it doesn't. Let's also store this dataframe in another variable since genres won't be important for our first recommendation system.\n"
        },
        {
            "cell_type": "code",
            "execution_count": 84,
            "metadata": {},
            "outputs": [
                {
                    "data": {
                        "text/html": "<div>\n<style scoped>\n    .dataframe tbody tr th:only-of-type {\n        vertical-align: middle;\n    }\n\n    .dataframe tbody tr th {\n        vertical-align: top;\n    }\n\n    .dataframe thead th {\n        text-align: right;\n    }\n</style>\n<table border=\"1\" class=\"dataframe\">\n  <thead>\n    <tr style=\"text-align: right;\">\n      <th></th>\n      <th>movie_id</th>\n      <th>title</th>\n      <th>genres</th>\n      <th>year</th>\n      <th>Animation</th>\n      <th>Children's</th>\n      <th>Comedy</th>\n      <th>Adventure</th>\n      <th>Fantasy</th>\n      <th>Romance</th>\n      <th>...</th>\n      <th>Crime</th>\n      <th>Thriller</th>\n      <th>Horror</th>\n      <th>Sci-Fi</th>\n      <th>Documentary</th>\n      <th>War</th>\n      <th>Musical</th>\n      <th>Mystery</th>\n      <th>Film-Noir</th>\n      <th>Western</th>\n    </tr>\n  </thead>\n  <tbody>\n    <tr>\n      <th>0</th>\n      <td>1</td>\n      <td>Toy Story</td>\n      <td>[Animation, Children's, Comedy]</td>\n      <td>1995</td>\n      <td>1.0</td>\n      <td>1.0</td>\n      <td>1.0</td>\n      <td>0.0</td>\n      <td>0.0</td>\n      <td>0.0</td>\n      <td>...</td>\n      <td>0.0</td>\n      <td>0.0</td>\n      <td>0.0</td>\n      <td>0.0</td>\n      <td>0.0</td>\n      <td>0.0</td>\n      <td>0.0</td>\n      <td>0.0</td>\n      <td>0.0</td>\n      <td>0.0</td>\n    </tr>\n    <tr>\n      <th>1</th>\n      <td>2</td>\n      <td>Jumanji</td>\n      <td>[Adventure, Children's, Fantasy]</td>\n      <td>1995</td>\n      <td>0.0</td>\n      <td>1.0</td>\n      <td>0.0</td>\n      <td>1.0</td>\n      <td>1.0</td>\n      <td>0.0</td>\n      <td>...</td>\n      <td>0.0</td>\n      <td>0.0</td>\n      <td>0.0</td>\n      <td>0.0</td>\n      <td>0.0</td>\n      <td>0.0</td>\n      <td>0.0</td>\n      <td>0.0</td>\n      <td>0.0</td>\n      <td>0.0</td>\n    </tr>\n    <tr>\n      <th>2</th>\n      <td>3</td>\n      <td>Grumpier Old Men</td>\n      <td>[Comedy, Romance]</td>\n      <td>1995</td>\n      <td>0.0</td>\n      <td>0.0</td>\n      <td>1.0</td>\n      <td>0.0</td>\n      <td>0.0</td>\n      <td>1.0</td>\n      <td>...</td>\n      <td>0.0</td>\n      <td>0.0</td>\n      <td>0.0</td>\n      <td>0.0</td>\n      <td>0.0</td>\n      <td>0.0</td>\n      <td>0.0</td>\n      <td>0.0</td>\n      <td>0.0</td>\n      <td>0.0</td>\n    </tr>\n    <tr>\n      <th>3</th>\n      <td>4</td>\n      <td>Waiting to Exhale</td>\n      <td>[Comedy, Drama]</td>\n      <td>1995</td>\n      <td>0.0</td>\n      <td>0.0</td>\n      <td>1.0</td>\n      <td>0.0</td>\n      <td>0.0</td>\n      <td>0.0</td>\n      <td>...</td>\n      <td>0.0</td>\n      <td>0.0</td>\n      <td>0.0</td>\n      <td>0.0</td>\n      <td>0.0</td>\n      <td>0.0</td>\n      <td>0.0</td>\n      <td>0.0</td>\n      <td>0.0</td>\n      <td>0.0</td>\n    </tr>\n    <tr>\n      <th>4</th>\n      <td>5</td>\n      <td>Father of the Bride Part II</td>\n      <td>[Comedy]</td>\n      <td>1995</td>\n      <td>0.0</td>\n      <td>0.0</td>\n      <td>1.0</td>\n      <td>0.0</td>\n      <td>0.0</td>\n      <td>0.0</td>\n      <td>...</td>\n      <td>0.0</td>\n      <td>0.0</td>\n      <td>0.0</td>\n      <td>0.0</td>\n      <td>0.0</td>\n      <td>0.0</td>\n      <td>0.0</td>\n      <td>0.0</td>\n      <td>0.0</td>\n      <td>0.0</td>\n    </tr>\n  </tbody>\n</table>\n<p>5 rows \u00d7 22 columns</p>\n</div>",
                        "text/plain": "   movie_id                        title                            genres  \\\n0         1                    Toy Story   [Animation, Children's, Comedy]   \n1         2                      Jumanji  [Adventure, Children's, Fantasy]   \n2         3             Grumpier Old Men                 [Comedy, Romance]   \n3         4            Waiting to Exhale                   [Comedy, Drama]   \n4         5  Father of the Bride Part II                          [Comedy]   \n\n   year  Animation  Children's  Comedy  Adventure  Fantasy  Romance  ...  \\\n0  1995        1.0         1.0     1.0        0.0      0.0      0.0  ...   \n1  1995        0.0         1.0     0.0        1.0      1.0      0.0  ...   \n2  1995        0.0         0.0     1.0        0.0      0.0      1.0  ...   \n3  1995        0.0         0.0     1.0        0.0      0.0      0.0  ...   \n4  1995        0.0         0.0     1.0        0.0      0.0      0.0  ...   \n\n   Crime  Thriller  Horror  Sci-Fi  Documentary  War  Musical  Mystery  \\\n0    0.0       0.0     0.0     0.0          0.0  0.0      0.0      0.0   \n1    0.0       0.0     0.0     0.0          0.0  0.0      0.0      0.0   \n2    0.0       0.0     0.0     0.0          0.0  0.0      0.0      0.0   \n3    0.0       0.0     0.0     0.0          0.0  0.0      0.0      0.0   \n4    0.0       0.0     0.0     0.0          0.0  0.0      0.0      0.0   \n\n   Film-Noir  Western  \n0        0.0      0.0  \n1        0.0      0.0  \n2        0.0      0.0  \n3        0.0      0.0  \n4        0.0      0.0  \n\n[5 rows x 22 columns]"
                    },
                    "execution_count": 84,
                    "metadata": {},
                    "output_type": "execute_result"
                }
            ],
            "source": "#Copying the movie dataframe into a new one since we won't need to use the genre information in our first case.\nmoviesWithGenres = movies.copy()\n\n#For every row in the dataframe, iterate through the list of genres and place a 1 into the corresponding column\nfor index, row in movies.iterrows():\n    for genre in row['genres']:\n        moviesWithGenres.at[index, genre] = 1\n#Filling in the NaN values with 0 to show that a movie doesn't have that column's genre\nmoviesWithGenres = moviesWithGenres.fillna(0)\nmoviesWithGenres.head()"
        },
        {
            "cell_type": "markdown",
            "metadata": {},
            "source": "# LYDAS SOLUTION"
        },
        {
            "cell_type": "markdown",
            "metadata": {},
            "source": "Now, let's take a look at how to implement **Content-Based** or **Item-Item recommendation systems**. This technique attempts to figure out what a user's favourite aspects of an item is, and then recommends items that present those aspects. In our case, we're going to try to figure out the input's favorite genres from the movies and ratings given.\n\nLet's begin by creating an input user to recommend movies to:\n\nNotice: To add more movies, simply increase the amount of elements in the **userInput**. Feel free to add more in! Just be sure to write it in with capital letters and if a movie starts with a \"The\", like \"The Matrix\" then write it in like this: 'Matrix, The' .\n"
        },
        {
            "cell_type": "code",
            "execution_count": 87,
            "metadata": {},
            "outputs": [
                {
                    "data": {
                        "text/html": "<div>\n<style scoped>\n    .dataframe tbody tr th:only-of-type {\n        vertical-align: middle;\n    }\n\n    .dataframe tbody tr th {\n        vertical-align: top;\n    }\n\n    .dataframe thead th {\n        text-align: right;\n    }\n</style>\n<table border=\"1\" class=\"dataframe\">\n  <thead>\n    <tr style=\"text-align: right;\">\n      <th></th>\n      <th>title</th>\n      <th>rating</th>\n    </tr>\n  </thead>\n  <tbody>\n    <tr>\n      <th>0</th>\n      <td>Breakfast Club, The</td>\n      <td>5.0</td>\n    </tr>\n    <tr>\n      <th>1</th>\n      <td>Toy Story</td>\n      <td>3.5</td>\n    </tr>\n    <tr>\n      <th>2</th>\n      <td>Jumanji</td>\n      <td>2.0</td>\n    </tr>\n    <tr>\n      <th>3</th>\n      <td>Pulp Fiction</td>\n      <td>5.0</td>\n    </tr>\n    <tr>\n      <th>4</th>\n      <td>Akira</td>\n      <td>4.5</td>\n    </tr>\n  </tbody>\n</table>\n</div>",
                        "text/plain": "                 title  rating\n0  Breakfast Club, The     5.0\n1            Toy Story     3.5\n2              Jumanji     2.0\n3         Pulp Fiction     5.0\n4                Akira     4.5"
                    },
                    "execution_count": 87,
                    "metadata": {},
                    "output_type": "execute_result"
                }
            ],
            "source": "userInput = [\n            {'title':'Breakfast Club, The', 'rating':5},\n            {'title':'Toy Story', 'rating':3.5},\n            {'title':'Jumanji', 'rating':2},\n            {'title':\"Pulp Fiction\", 'rating':5},\n            {'title':'Akira', 'rating':4.5}\n         ] \ninputMovies = pd.DataFrame(userInput)\ninputMovies"
        },
        {
            "cell_type": "markdown",
            "metadata": {},
            "source": "#### Add movieId to input user\n\nWith the input complete, let's extract the input movie's ID's from the movies dataframe and add them into it.\n\nWe can achieve this by first filtering out the rows that contain the input movie's title and then merging this subset with the input dataframe. We also drop unnecessary columns for the input to save memory space.\n"
        },
        {
            "cell_type": "code",
            "execution_count": 92,
            "metadata": {},
            "outputs": [
                {
                    "data": {
                        "text/html": "<div>\n<style scoped>\n    .dataframe tbody tr th:only-of-type {\n        vertical-align: middle;\n    }\n\n    .dataframe tbody tr th {\n        vertical-align: top;\n    }\n\n    .dataframe thead th {\n        text-align: right;\n    }\n</style>\n<table border=\"1\" class=\"dataframe\">\n  <thead>\n    <tr style=\"text-align: right;\">\n      <th></th>\n      <th>movie_id</th>\n      <th>title</th>\n      <th>genres</th>\n      <th>year</th>\n    </tr>\n  </thead>\n  <tbody>\n    <tr>\n      <th>0</th>\n      <td>1</td>\n      <td>Toy Story</td>\n      <td>[Animation, Children's, Comedy]</td>\n      <td>1995</td>\n    </tr>\n    <tr>\n      <th>1</th>\n      <td>2</td>\n      <td>Jumanji</td>\n      <td>[Adventure, Children's, Fantasy]</td>\n      <td>1995</td>\n    </tr>\n    <tr>\n      <th>293</th>\n      <td>296</td>\n      <td>Pulp Fiction</td>\n      <td>[Crime, Drama]</td>\n      <td>1994</td>\n    </tr>\n    <tr>\n      <th>1254</th>\n      <td>1274</td>\n      <td>Akira</td>\n      <td>[Adventure, Animation, Sci-Fi, Thriller]</td>\n      <td>1988</td>\n    </tr>\n    <tr>\n      <th>1899</th>\n      <td>1968</td>\n      <td>Breakfast Club, The</td>\n      <td>[Comedy, Drama]</td>\n      <td>1985</td>\n    </tr>\n  </tbody>\n</table>\n</div>",
                        "text/plain": "      movie_id                title                                    genres  \\\n0            1            Toy Story           [Animation, Children's, Comedy]   \n1            2              Jumanji          [Adventure, Children's, Fantasy]   \n293        296         Pulp Fiction                            [Crime, Drama]   \n1254      1274                Akira  [Adventure, Animation, Sci-Fi, Thriller]   \n1899      1968  Breakfast Club, The                           [Comedy, Drama]   \n\n      year  \n0     1995  \n1     1995  \n293   1994  \n1254  1988  \n1899  1985  "
                    },
                    "execution_count": 92,
                    "metadata": {},
                    "output_type": "execute_result"
                }
            ],
            "source": "#Filtering out the movies by title\ninputId = movies[movies['title'].isin(inputMovies['title'].tolist())]\ninputId"
        },
        {
            "cell_type": "code",
            "execution_count": 93,
            "metadata": {},
            "outputs": [
                {
                    "data": {
                        "text/html": "<div>\n<style scoped>\n    .dataframe tbody tr th:only-of-type {\n        vertical-align: middle;\n    }\n\n    .dataframe tbody tr th {\n        vertical-align: top;\n    }\n\n    .dataframe thead th {\n        text-align: right;\n    }\n</style>\n<table border=\"1\" class=\"dataframe\">\n  <thead>\n    <tr style=\"text-align: right;\">\n      <th></th>\n      <th>movie_id</th>\n      <th>title</th>\n      <th>genres</th>\n      <th>year</th>\n      <th>rating</th>\n    </tr>\n  </thead>\n  <tbody>\n    <tr>\n      <th>0</th>\n      <td>1</td>\n      <td>Toy Story</td>\n      <td>[Animation, Children's, Comedy]</td>\n      <td>1995</td>\n      <td>3.5</td>\n    </tr>\n    <tr>\n      <th>1</th>\n      <td>2</td>\n      <td>Jumanji</td>\n      <td>[Adventure, Children's, Fantasy]</td>\n      <td>1995</td>\n      <td>2.0</td>\n    </tr>\n    <tr>\n      <th>2</th>\n      <td>296</td>\n      <td>Pulp Fiction</td>\n      <td>[Crime, Drama]</td>\n      <td>1994</td>\n      <td>5.0</td>\n    </tr>\n    <tr>\n      <th>3</th>\n      <td>1274</td>\n      <td>Akira</td>\n      <td>[Adventure, Animation, Sci-Fi, Thriller]</td>\n      <td>1988</td>\n      <td>4.5</td>\n    </tr>\n    <tr>\n      <th>4</th>\n      <td>1968</td>\n      <td>Breakfast Club, The</td>\n      <td>[Comedy, Drama]</td>\n      <td>1985</td>\n      <td>5.0</td>\n    </tr>\n  </tbody>\n</table>\n</div>",
                        "text/plain": "   movie_id                title                                    genres  \\\n0         1            Toy Story           [Animation, Children's, Comedy]   \n1         2              Jumanji          [Adventure, Children's, Fantasy]   \n2       296         Pulp Fiction                            [Crime, Drama]   \n3      1274                Akira  [Adventure, Animation, Sci-Fi, Thriller]   \n4      1968  Breakfast Club, The                           [Comedy, Drama]   \n\n   year  rating  \n0  1995     3.5  \n1  1995     2.0  \n2  1994     5.0  \n3  1988     4.5  \n4  1985     5.0  "
                    },
                    "execution_count": 93,
                    "metadata": {},
                    "output_type": "execute_result"
                }
            ],
            "source": "#Then merging it so we can get the movieId. It's implicitly merging it by title.\ninputMovies = pd.merge(inputId, inputMovies)\ninputMovies"
        },
        {
            "cell_type": "code",
            "execution_count": 94,
            "metadata": {},
            "outputs": [
                {
                    "data": {
                        "text/html": "<div>\n<style scoped>\n    .dataframe tbody tr th:only-of-type {\n        vertical-align: middle;\n    }\n\n    .dataframe tbody tr th {\n        vertical-align: top;\n    }\n\n    .dataframe thead th {\n        text-align: right;\n    }\n</style>\n<table border=\"1\" class=\"dataframe\">\n  <thead>\n    <tr style=\"text-align: right;\">\n      <th></th>\n      <th>movie_id</th>\n      <th>title</th>\n      <th>rating</th>\n    </tr>\n  </thead>\n  <tbody>\n    <tr>\n      <th>0</th>\n      <td>1</td>\n      <td>Toy Story</td>\n      <td>3.5</td>\n    </tr>\n    <tr>\n      <th>1</th>\n      <td>2</td>\n      <td>Jumanji</td>\n      <td>2.0</td>\n    </tr>\n    <tr>\n      <th>2</th>\n      <td>296</td>\n      <td>Pulp Fiction</td>\n      <td>5.0</td>\n    </tr>\n    <tr>\n      <th>3</th>\n      <td>1274</td>\n      <td>Akira</td>\n      <td>4.5</td>\n    </tr>\n    <tr>\n      <th>4</th>\n      <td>1968</td>\n      <td>Breakfast Club, The</td>\n      <td>5.0</td>\n    </tr>\n  </tbody>\n</table>\n</div>",
                        "text/plain": "   movie_id                title  rating\n0         1            Toy Story     3.5\n1         2              Jumanji     2.0\n2       296         Pulp Fiction     5.0\n3      1274                Akira     4.5\n4      1968  Breakfast Club, The     5.0"
                    },
                    "execution_count": 94,
                    "metadata": {},
                    "output_type": "execute_result"
                }
            ],
            "source": "#Dropping information we won't use from the input dataframe\ninputMovies = inputMovies.drop('genres', 1).drop('year', 1)\n#Final input dataframe\n#If a movie you added in above isn't here, then it might not be in the original \n#dataframe or it might spelled differently, please check capitalisation.\ninputMovies"
        },
        {
            "cell_type": "markdown",
            "metadata": {},
            "source": "We're going to start by learning the input's preferences, so let's get the subset of movies that the input has watched from the Dataframe containing genres defined with binary values.\n"
        },
        {
            "cell_type": "code",
            "execution_count": 97,
            "metadata": {},
            "outputs": [
                {
                    "data": {
                        "text/html": "<div>\n<style scoped>\n    .dataframe tbody tr th:only-of-type {\n        vertical-align: middle;\n    }\n\n    .dataframe tbody tr th {\n        vertical-align: top;\n    }\n\n    .dataframe thead th {\n        text-align: right;\n    }\n</style>\n<table border=\"1\" class=\"dataframe\">\n  <thead>\n    <tr style=\"text-align: right;\">\n      <th></th>\n      <th>movie_id</th>\n      <th>title</th>\n      <th>genres</th>\n      <th>year</th>\n      <th>Animation</th>\n      <th>Children's</th>\n      <th>Comedy</th>\n      <th>Adventure</th>\n      <th>Fantasy</th>\n      <th>Romance</th>\n      <th>...</th>\n      <th>Crime</th>\n      <th>Thriller</th>\n      <th>Horror</th>\n      <th>Sci-Fi</th>\n      <th>Documentary</th>\n      <th>War</th>\n      <th>Musical</th>\n      <th>Mystery</th>\n      <th>Film-Noir</th>\n      <th>Western</th>\n    </tr>\n  </thead>\n  <tbody>\n    <tr>\n      <th>0</th>\n      <td>1</td>\n      <td>Toy Story</td>\n      <td>[Animation, Children's, Comedy]</td>\n      <td>1995</td>\n      <td>1.0</td>\n      <td>1.0</td>\n      <td>1.0</td>\n      <td>0.0</td>\n      <td>0.0</td>\n      <td>0.0</td>\n      <td>...</td>\n      <td>0.0</td>\n      <td>0.0</td>\n      <td>0.0</td>\n      <td>0.0</td>\n      <td>0.0</td>\n      <td>0.0</td>\n      <td>0.0</td>\n      <td>0.0</td>\n      <td>0.0</td>\n      <td>0.0</td>\n    </tr>\n    <tr>\n      <th>1</th>\n      <td>2</td>\n      <td>Jumanji</td>\n      <td>[Adventure, Children's, Fantasy]</td>\n      <td>1995</td>\n      <td>0.0</td>\n      <td>1.0</td>\n      <td>0.0</td>\n      <td>1.0</td>\n      <td>1.0</td>\n      <td>0.0</td>\n      <td>...</td>\n      <td>0.0</td>\n      <td>0.0</td>\n      <td>0.0</td>\n      <td>0.0</td>\n      <td>0.0</td>\n      <td>0.0</td>\n      <td>0.0</td>\n      <td>0.0</td>\n      <td>0.0</td>\n      <td>0.0</td>\n    </tr>\n    <tr>\n      <th>293</th>\n      <td>296</td>\n      <td>Pulp Fiction</td>\n      <td>[Crime, Drama]</td>\n      <td>1994</td>\n      <td>0.0</td>\n      <td>0.0</td>\n      <td>0.0</td>\n      <td>0.0</td>\n      <td>0.0</td>\n      <td>0.0</td>\n      <td>...</td>\n      <td>1.0</td>\n      <td>0.0</td>\n      <td>0.0</td>\n      <td>0.0</td>\n      <td>0.0</td>\n      <td>0.0</td>\n      <td>0.0</td>\n      <td>0.0</td>\n      <td>0.0</td>\n      <td>0.0</td>\n    </tr>\n    <tr>\n      <th>1254</th>\n      <td>1274</td>\n      <td>Akira</td>\n      <td>[Adventure, Animation, Sci-Fi, Thriller]</td>\n      <td>1988</td>\n      <td>1.0</td>\n      <td>0.0</td>\n      <td>0.0</td>\n      <td>1.0</td>\n      <td>0.0</td>\n      <td>0.0</td>\n      <td>...</td>\n      <td>0.0</td>\n      <td>1.0</td>\n      <td>0.0</td>\n      <td>1.0</td>\n      <td>0.0</td>\n      <td>0.0</td>\n      <td>0.0</td>\n      <td>0.0</td>\n      <td>0.0</td>\n      <td>0.0</td>\n    </tr>\n    <tr>\n      <th>1899</th>\n      <td>1968</td>\n      <td>Breakfast Club, The</td>\n      <td>[Comedy, Drama]</td>\n      <td>1985</td>\n      <td>0.0</td>\n      <td>0.0</td>\n      <td>1.0</td>\n      <td>0.0</td>\n      <td>0.0</td>\n      <td>0.0</td>\n      <td>...</td>\n      <td>0.0</td>\n      <td>0.0</td>\n      <td>0.0</td>\n      <td>0.0</td>\n      <td>0.0</td>\n      <td>0.0</td>\n      <td>0.0</td>\n      <td>0.0</td>\n      <td>0.0</td>\n      <td>0.0</td>\n    </tr>\n  </tbody>\n</table>\n<p>5 rows \u00d7 22 columns</p>\n</div>",
                        "text/plain": "      movie_id                title                                    genres  \\\n0            1            Toy Story           [Animation, Children's, Comedy]   \n1            2              Jumanji          [Adventure, Children's, Fantasy]   \n293        296         Pulp Fiction                            [Crime, Drama]   \n1254      1274                Akira  [Adventure, Animation, Sci-Fi, Thriller]   \n1899      1968  Breakfast Club, The                           [Comedy, Drama]   \n\n      year  Animation  Children's  Comedy  Adventure  Fantasy  Romance  ...  \\\n0     1995        1.0         1.0     1.0        0.0      0.0      0.0  ...   \n1     1995        0.0         1.0     0.0        1.0      1.0      0.0  ...   \n293   1994        0.0         0.0     0.0        0.0      0.0      0.0  ...   \n1254  1988        1.0         0.0     0.0        1.0      0.0      0.0  ...   \n1899  1985        0.0         0.0     1.0        0.0      0.0      0.0  ...   \n\n      Crime  Thriller  Horror  Sci-Fi  Documentary  War  Musical  Mystery  \\\n0       0.0       0.0     0.0     0.0          0.0  0.0      0.0      0.0   \n1       0.0       0.0     0.0     0.0          0.0  0.0      0.0      0.0   \n293     1.0       0.0     0.0     0.0          0.0  0.0      0.0      0.0   \n1254    0.0       1.0     0.0     1.0          0.0  0.0      0.0      0.0   \n1899    0.0       0.0     0.0     0.0          0.0  0.0      0.0      0.0   \n\n      Film-Noir  Western  \n0           0.0      0.0  \n1           0.0      0.0  \n293         0.0      0.0  \n1254        0.0      0.0  \n1899        0.0      0.0  \n\n[5 rows x 22 columns]"
                    },
                    "execution_count": 97,
                    "metadata": {},
                    "output_type": "execute_result"
                }
            ],
            "source": "#Filtering out the movies from the input\nuserMovies = moviesWithGenres[moviesWithGenres['movie_id'].isin(inputMovies['movie_id'].tolist())]\nuserMovies"
        },
        {
            "cell_type": "markdown",
            "metadata": {},
            "source": "We'll only need the actual genre table, so let's clean this up a bit by resetting the index and dropping the movieId, title, genres and year columns.\n"
        },
        {
            "cell_type": "code",
            "execution_count": 99,
            "metadata": {},
            "outputs": [
                {
                    "data": {
                        "text/html": "<div>\n<style scoped>\n    .dataframe tbody tr th:only-of-type {\n        vertical-align: middle;\n    }\n\n    .dataframe tbody tr th {\n        vertical-align: top;\n    }\n\n    .dataframe thead th {\n        text-align: right;\n    }\n</style>\n<table border=\"1\" class=\"dataframe\">\n  <thead>\n    <tr style=\"text-align: right;\">\n      <th></th>\n      <th>Animation</th>\n      <th>Children's</th>\n      <th>Comedy</th>\n      <th>Adventure</th>\n      <th>Fantasy</th>\n      <th>Romance</th>\n      <th>Drama</th>\n      <th>Action</th>\n      <th>Crime</th>\n      <th>Thriller</th>\n      <th>Horror</th>\n      <th>Sci-Fi</th>\n      <th>Documentary</th>\n      <th>War</th>\n      <th>Musical</th>\n      <th>Mystery</th>\n      <th>Film-Noir</th>\n      <th>Western</th>\n    </tr>\n  </thead>\n  <tbody>\n    <tr>\n      <th>0</th>\n      <td>1.0</td>\n      <td>1.0</td>\n      <td>1.0</td>\n      <td>0.0</td>\n      <td>0.0</td>\n      <td>0.0</td>\n      <td>0.0</td>\n      <td>0.0</td>\n      <td>0.0</td>\n      <td>0.0</td>\n      <td>0.0</td>\n      <td>0.0</td>\n      <td>0.0</td>\n      <td>0.0</td>\n      <td>0.0</td>\n      <td>0.0</td>\n      <td>0.0</td>\n      <td>0.0</td>\n    </tr>\n    <tr>\n      <th>1</th>\n      <td>0.0</td>\n      <td>1.0</td>\n      <td>0.0</td>\n      <td>1.0</td>\n      <td>1.0</td>\n      <td>0.0</td>\n      <td>0.0</td>\n      <td>0.0</td>\n      <td>0.0</td>\n      <td>0.0</td>\n      <td>0.0</td>\n      <td>0.0</td>\n      <td>0.0</td>\n      <td>0.0</td>\n      <td>0.0</td>\n      <td>0.0</td>\n      <td>0.0</td>\n      <td>0.0</td>\n    </tr>\n    <tr>\n      <th>2</th>\n      <td>0.0</td>\n      <td>0.0</td>\n      <td>0.0</td>\n      <td>0.0</td>\n      <td>0.0</td>\n      <td>0.0</td>\n      <td>1.0</td>\n      <td>0.0</td>\n      <td>1.0</td>\n      <td>0.0</td>\n      <td>0.0</td>\n      <td>0.0</td>\n      <td>0.0</td>\n      <td>0.0</td>\n      <td>0.0</td>\n      <td>0.0</td>\n      <td>0.0</td>\n      <td>0.0</td>\n    </tr>\n    <tr>\n      <th>3</th>\n      <td>1.0</td>\n      <td>0.0</td>\n      <td>0.0</td>\n      <td>1.0</td>\n      <td>0.0</td>\n      <td>0.0</td>\n      <td>0.0</td>\n      <td>0.0</td>\n      <td>0.0</td>\n      <td>1.0</td>\n      <td>0.0</td>\n      <td>1.0</td>\n      <td>0.0</td>\n      <td>0.0</td>\n      <td>0.0</td>\n      <td>0.0</td>\n      <td>0.0</td>\n      <td>0.0</td>\n    </tr>\n    <tr>\n      <th>4</th>\n      <td>0.0</td>\n      <td>0.0</td>\n      <td>1.0</td>\n      <td>0.0</td>\n      <td>0.0</td>\n      <td>0.0</td>\n      <td>1.0</td>\n      <td>0.0</td>\n      <td>0.0</td>\n      <td>0.0</td>\n      <td>0.0</td>\n      <td>0.0</td>\n      <td>0.0</td>\n      <td>0.0</td>\n      <td>0.0</td>\n      <td>0.0</td>\n      <td>0.0</td>\n      <td>0.0</td>\n    </tr>\n  </tbody>\n</table>\n</div>",
                        "text/plain": "   Animation  Children's  Comedy  Adventure  Fantasy  Romance  Drama  Action  \\\n0        1.0         1.0     1.0        0.0      0.0      0.0    0.0     0.0   \n1        0.0         1.0     0.0        1.0      1.0      0.0    0.0     0.0   \n2        0.0         0.0     0.0        0.0      0.0      0.0    1.0     0.0   \n3        1.0         0.0     0.0        1.0      0.0      0.0    0.0     0.0   \n4        0.0         0.0     1.0        0.0      0.0      0.0    1.0     0.0   \n\n   Crime  Thriller  Horror  Sci-Fi  Documentary  War  Musical  Mystery  \\\n0    0.0       0.0     0.0     0.0          0.0  0.0      0.0      0.0   \n1    0.0       0.0     0.0     0.0          0.0  0.0      0.0      0.0   \n2    1.0       0.0     0.0     0.0          0.0  0.0      0.0      0.0   \n3    0.0       1.0     0.0     1.0          0.0  0.0      0.0      0.0   \n4    0.0       0.0     0.0     0.0          0.0  0.0      0.0      0.0   \n\n   Film-Noir  Western  \n0        0.0      0.0  \n1        0.0      0.0  \n2        0.0      0.0  \n3        0.0      0.0  \n4        0.0      0.0  "
                    },
                    "execution_count": 99,
                    "metadata": {},
                    "output_type": "execute_result"
                }
            ],
            "source": "#Resetting the index to avoid future issues\nuserMovies = userMovies.reset_index(drop=True)\n#Dropping unnecessary issues due to save memory and to avoid issues\nuserGenreTable = userMovies.drop('movie_id', 1).drop('title', 1).drop('genres', 1).drop('year', 1)\nuserGenreTable"
        },
        {
            "cell_type": "markdown",
            "metadata": {},
            "source": "Now we're ready to start learning the input's preferences!\n\nTo do this, we're going to turn each genre into weights. We can do this by using the input's reviews and multiplying them into the input's genre table and then summing up the resulting table by column. This operation is actually a dot product between a matrix and a vector, so we can simply accomplish by calling Pandas's \"dot\" function.\n"
        },
        {
            "cell_type": "code",
            "execution_count": 100,
            "metadata": {},
            "outputs": [
                {
                    "data": {
                        "text/plain": "0    3.5\n1    2.0\n2    5.0\n3    4.5\n4    5.0\nName: rating, dtype: float64"
                    },
                    "execution_count": 100,
                    "metadata": {},
                    "output_type": "execute_result"
                }
            ],
            "source": "inputMovies['rating']"
        },
        {
            "cell_type": "code",
            "execution_count": 101,
            "metadata": {},
            "outputs": [
                {
                    "data": {
                        "text/plain": "Animation       8.0\nChildren's      5.5\nComedy          8.5\nAdventure       6.5\nFantasy         2.0\nRomance         0.0\nDrama          10.0\nAction          0.0\nCrime           5.0\nThriller        4.5\nHorror          0.0\nSci-Fi          4.5\nDocumentary     0.0\nWar             0.0\nMusical         0.0\nMystery         0.0\nFilm-Noir       0.0\nWestern         0.0\ndtype: float64"
                    },
                    "execution_count": 101,
                    "metadata": {},
                    "output_type": "execute_result"
                }
            ],
            "source": "#Dot produt to get weights\nuserProfile = userGenreTable.transpose().dot(inputMovies['rating'])\n#The user profile\nuserProfile"
        },
        {
            "cell_type": "markdown",
            "metadata": {},
            "source": "Now, we have the weights for every of the user's preferences. This is known as the User Profile. Using this, we can recommend movies that satisfy the user's preferences.\n"
        },
        {
            "cell_type": "markdown",
            "metadata": {},
            "source": "Let's start by extracting the genre table from the original dataframe:\n"
        },
        {
            "cell_type": "code",
            "execution_count": 106,
            "metadata": {},
            "outputs": [
                {
                    "data": {
                        "text/html": "<div>\n<style scoped>\n    .dataframe tbody tr th:only-of-type {\n        vertical-align: middle;\n    }\n\n    .dataframe tbody tr th {\n        vertical-align: top;\n    }\n\n    .dataframe thead th {\n        text-align: right;\n    }\n</style>\n<table border=\"1\" class=\"dataframe\">\n  <thead>\n    <tr style=\"text-align: right;\">\n      <th></th>\n      <th>Animation</th>\n      <th>Children's</th>\n      <th>Comedy</th>\n      <th>Adventure</th>\n      <th>Fantasy</th>\n      <th>Romance</th>\n      <th>Drama</th>\n      <th>Action</th>\n      <th>Crime</th>\n      <th>Thriller</th>\n      <th>Horror</th>\n      <th>Sci-Fi</th>\n      <th>Documentary</th>\n      <th>War</th>\n      <th>Musical</th>\n      <th>Mystery</th>\n      <th>Film-Noir</th>\n      <th>Western</th>\n    </tr>\n    <tr>\n      <th>movie_id</th>\n      <th></th>\n      <th></th>\n      <th></th>\n      <th></th>\n      <th></th>\n      <th></th>\n      <th></th>\n      <th></th>\n      <th></th>\n      <th></th>\n      <th></th>\n      <th></th>\n      <th></th>\n      <th></th>\n      <th></th>\n      <th></th>\n      <th></th>\n      <th></th>\n    </tr>\n  </thead>\n  <tbody>\n    <tr>\n      <th>1</th>\n      <td>1.0</td>\n      <td>1.0</td>\n      <td>1.0</td>\n      <td>0.0</td>\n      <td>0.0</td>\n      <td>0.0</td>\n      <td>0.0</td>\n      <td>0.0</td>\n      <td>0.0</td>\n      <td>0.0</td>\n      <td>0.0</td>\n      <td>0.0</td>\n      <td>0.0</td>\n      <td>0.0</td>\n      <td>0.0</td>\n      <td>0.0</td>\n      <td>0.0</td>\n      <td>0.0</td>\n    </tr>\n    <tr>\n      <th>2</th>\n      <td>0.0</td>\n      <td>1.0</td>\n      <td>0.0</td>\n      <td>1.0</td>\n      <td>1.0</td>\n      <td>0.0</td>\n      <td>0.0</td>\n      <td>0.0</td>\n      <td>0.0</td>\n      <td>0.0</td>\n      <td>0.0</td>\n      <td>0.0</td>\n      <td>0.0</td>\n      <td>0.0</td>\n      <td>0.0</td>\n      <td>0.0</td>\n      <td>0.0</td>\n      <td>0.0</td>\n    </tr>\n    <tr>\n      <th>3</th>\n      <td>0.0</td>\n      <td>0.0</td>\n      <td>1.0</td>\n      <td>0.0</td>\n      <td>0.0</td>\n      <td>1.0</td>\n      <td>0.0</td>\n      <td>0.0</td>\n      <td>0.0</td>\n      <td>0.0</td>\n      <td>0.0</td>\n      <td>0.0</td>\n      <td>0.0</td>\n      <td>0.0</td>\n      <td>0.0</td>\n      <td>0.0</td>\n      <td>0.0</td>\n      <td>0.0</td>\n    </tr>\n    <tr>\n      <th>4</th>\n      <td>0.0</td>\n      <td>0.0</td>\n      <td>1.0</td>\n      <td>0.0</td>\n      <td>0.0</td>\n      <td>0.0</td>\n      <td>1.0</td>\n      <td>0.0</td>\n      <td>0.0</td>\n      <td>0.0</td>\n      <td>0.0</td>\n      <td>0.0</td>\n      <td>0.0</td>\n      <td>0.0</td>\n      <td>0.0</td>\n      <td>0.0</td>\n      <td>0.0</td>\n      <td>0.0</td>\n    </tr>\n    <tr>\n      <th>5</th>\n      <td>0.0</td>\n      <td>0.0</td>\n      <td>1.0</td>\n      <td>0.0</td>\n      <td>0.0</td>\n      <td>0.0</td>\n      <td>0.0</td>\n      <td>0.0</td>\n      <td>0.0</td>\n      <td>0.0</td>\n      <td>0.0</td>\n      <td>0.0</td>\n      <td>0.0</td>\n      <td>0.0</td>\n      <td>0.0</td>\n      <td>0.0</td>\n      <td>0.0</td>\n      <td>0.0</td>\n    </tr>\n  </tbody>\n</table>\n</div>",
                        "text/plain": "          Animation  Children's  Comedy  Adventure  Fantasy  Romance  Drama  \\\nmovie_id                                                                      \n1               1.0         1.0     1.0        0.0      0.0      0.0    0.0   \n2               0.0         1.0     0.0        1.0      1.0      0.0    0.0   \n3               0.0         0.0     1.0        0.0      0.0      1.0    0.0   \n4               0.0         0.0     1.0        0.0      0.0      0.0    1.0   \n5               0.0         0.0     1.0        0.0      0.0      0.0    0.0   \n\n          Action  Crime  Thriller  Horror  Sci-Fi  Documentary  War  Musical  \\\nmovie_id                                                                       \n1            0.0    0.0       0.0     0.0     0.0          0.0  0.0      0.0   \n2            0.0    0.0       0.0     0.0     0.0          0.0  0.0      0.0   \n3            0.0    0.0       0.0     0.0     0.0          0.0  0.0      0.0   \n4            0.0    0.0       0.0     0.0     0.0          0.0  0.0      0.0   \n5            0.0    0.0       0.0     0.0     0.0          0.0  0.0      0.0   \n\n          Mystery  Film-Noir  Western  \nmovie_id                               \n1             0.0        0.0      0.0  \n2             0.0        0.0      0.0  \n3             0.0        0.0      0.0  \n4             0.0        0.0      0.0  \n5             0.0        0.0      0.0  "
                    },
                    "execution_count": 106,
                    "metadata": {},
                    "output_type": "execute_result"
                }
            ],
            "source": "#Now let's get the genres of every movie in our original dataframe\ngenreTable = moviesWithGenres.set_index(moviesWithGenres['movie_id'])\n#And drop the unnecessary information\ngenreTable = genreTable.drop('movie_id', 1).drop('title', 1).drop('genres', 1).drop('year', 1)\ngenreTable.head()"
        },
        {
            "cell_type": "code",
            "execution_count": 107,
            "metadata": {},
            "outputs": [
                {
                    "data": {
                        "text/plain": "(3883, 18)"
                    },
                    "execution_count": 107,
                    "metadata": {},
                    "output_type": "execute_result"
                }
            ],
            "source": "genreTable.shape"
        },
        {
            "cell_type": "markdown",
            "metadata": {},
            "source": "With the input's profile and the complete list of movies and their genres in hand, we're going to take the weighted average of every movie based on the input profile and recommend the top twenty movies that most satisfy it."
        },
        {
            "cell_type": "code",
            "execution_count": 108,
            "metadata": {},
            "outputs": [
                {
                    "data": {
                        "text/plain": "movie_id\n1    0.403670\n2    0.256881\n3    0.155963\n4    0.339450\n5    0.155963\ndtype: float64"
                    },
                    "execution_count": 108,
                    "metadata": {},
                    "output_type": "execute_result"
                }
            ],
            "source": "#Multiply the genres by the weights and then take the weighted average\nrecommendationTable_df = ((genreTable*userProfile).sum(axis=1))/(userProfile.sum())\nrecommendationTable_df.head()"
        },
        {
            "cell_type": "code",
            "execution_count": 109,
            "metadata": {},
            "outputs": [
                {
                    "data": {
                        "text/plain": "movie_id\n673     0.559633\n1566    0.522936\n2054    0.495413\n2138    0.467890\n1259    0.458716\ndtype: float64"
                    },
                    "execution_count": 109,
                    "metadata": {},
                    "output_type": "execute_result"
                }
            ],
            "source": "#Sort our recommendations in descending order\nrecommendationTable_df = recommendationTable_df.sort_values(ascending=False)\n#Just a peek at the values\nrecommendationTable_df.head()"
        },
        {
            "cell_type": "markdown",
            "metadata": {},
            "source": "Now here's the recommendation table!\n"
        },
        {
            "cell_type": "code",
            "execution_count": 114,
            "metadata": {},
            "outputs": [
                {
                    "data": {
                        "text/html": "<div>\n<style scoped>\n    .dataframe tbody tr th:only-of-type {\n        vertical-align: middle;\n    }\n\n    .dataframe tbody tr th {\n        vertical-align: top;\n    }\n\n    .dataframe thead th {\n        text-align: right;\n    }\n</style>\n<table border=\"1\" class=\"dataframe\">\n  <thead>\n    <tr style=\"text-align: right;\">\n      <th></th>\n      <th>movie_id</th>\n      <th>title</th>\n      <th>genres</th>\n      <th>year</th>\n    </tr>\n  </thead>\n  <tbody>\n    <tr>\n      <th>33</th>\n      <td>34</td>\n      <td>Babe</td>\n      <td>[Children's, Comedy, Drama]</td>\n      <td>1995</td>\n    </tr>\n    <tr>\n      <th>399</th>\n      <td>403</td>\n      <td>Two Crimes</td>\n      <td>[Comedy, Crime, Drama]</td>\n      <td>1995</td>\n    </tr>\n    <tr>\n      <th>667</th>\n      <td>673</td>\n      <td>Space Jam</td>\n      <td>[Adventure, Animation, Children's, Comedy, Fan...</td>\n      <td>1996</td>\n    </tr>\n    <tr>\n      <th>1001</th>\n      <td>1014</td>\n      <td>Pollyanna</td>\n      <td>[Children's, Comedy, Drama]</td>\n      <td>1960</td>\n    </tr>\n    <tr>\n      <th>1239</th>\n      <td>1259</td>\n      <td>Stand by Me</td>\n      <td>[Adventure, Comedy, Drama]</td>\n      <td>1986</td>\n    </tr>\n    <tr>\n      <th>1445</th>\n      <td>1473</td>\n      <td>Best Men</td>\n      <td>[Action, Comedy, Crime, Drama]</td>\n      <td>1997</td>\n    </tr>\n    <tr>\n      <th>1526</th>\n      <td>1566</td>\n      <td>Hercules</td>\n      <td>[Adventure, Animation, Children's, Comedy, Mus...</td>\n      <td>1997</td>\n    </tr>\n    <tr>\n      <th>1663</th>\n      <td>1711</td>\n      <td>Midnight in the Garden of Good and Evil</td>\n      <td>[Comedy, Crime, Drama, Mystery]</td>\n      <td>1997</td>\n    </tr>\n    <tr>\n      <th>1745</th>\n      <td>1809</td>\n      <td>Hana-bi</td>\n      <td>[Comedy, Crime, Drama]</td>\n      <td>1997</td>\n    </tr>\n    <tr>\n      <th>1748</th>\n      <td>1812</td>\n      <td>Wide Awake</td>\n      <td>[Children's, Comedy, Drama]</td>\n      <td>1998</td>\n    </tr>\n    <tr>\n      <th>1849</th>\n      <td>1918</td>\n      <td>Lethal Weapon 4</td>\n      <td>[Action, Comedy, Crime, Drama]</td>\n      <td>1998</td>\n    </tr>\n    <tr>\n      <th>1931</th>\n      <td>2000</td>\n      <td>Lethal Weapon</td>\n      <td>[Action, Comedy, Crime, Drama]</td>\n      <td>1987</td>\n    </tr>\n    <tr>\n      <th>1932</th>\n      <td>2001</td>\n      <td>Lethal Weapon 2</td>\n      <td>[Action, Comedy, Crime, Drama]</td>\n      <td>1989</td>\n    </tr>\n    <tr>\n      <th>1933</th>\n      <td>2002</td>\n      <td>Lethal Weapon 3</td>\n      <td>[Action, Comedy, Crime, Drama]</td>\n      <td>1992</td>\n    </tr>\n    <tr>\n      <th>1985</th>\n      <td>2054</td>\n      <td>Honey, I Shrunk the Kids</td>\n      <td>[Adventure, Children's, Comedy, Fantasy, Sci-Fi]</td>\n      <td>1989</td>\n    </tr>\n    <tr>\n      <th>2047</th>\n      <td>2116</td>\n      <td>Lord of the Rings, The</td>\n      <td>[Adventure, Animation, Children's, Sci-Fi]</td>\n      <td>1978</td>\n    </tr>\n    <tr>\n      <th>2069</th>\n      <td>2138</td>\n      <td>Watership Down</td>\n      <td>[Animation, Children's, Drama, Fantasy]</td>\n      <td>1978</td>\n    </tr>\n    <tr>\n      <th>3115</th>\n      <td>3184</td>\n      <td>Montana</td>\n      <td>[Action, Comedy, Crime, Drama]</td>\n      <td>1998</td>\n    </tr>\n    <tr>\n      <th>3197</th>\n      <td>3266</td>\n      <td>Man Bites Dog (C'est arriv prs de chez vous)</td>\n      <td>[Action, Comedy, Crime, Drama]</td>\n      <td>1992</td>\n    </tr>\n    <tr>\n      <th>3452</th>\n      <td>3521</td>\n      <td>Mystery Train</td>\n      <td>[Comedy, Crime, Drama]</td>\n      <td>1989</td>\n    </tr>\n  </tbody>\n</table>\n</div>",
                        "text/plain": "      movie_id                                         title  \\\n33          34                                          Babe   \n399        403                                    Two Crimes   \n667        673                                     Space Jam   \n1001      1014                                     Pollyanna   \n1239      1259                                   Stand by Me   \n1445      1473                                      Best Men   \n1526      1566                                      Hercules   \n1663      1711       Midnight in the Garden of Good and Evil   \n1745      1809                                       Hana-bi   \n1748      1812                                    Wide Awake   \n1849      1918                               Lethal Weapon 4   \n1931      2000                                 Lethal Weapon   \n1932      2001                               Lethal Weapon 2   \n1933      2002                               Lethal Weapon 3   \n1985      2054                      Honey, I Shrunk the Kids   \n2047      2116                        Lord of the Rings, The   \n2069      2138                                Watership Down   \n3115      3184                                       Montana   \n3197      3266  Man Bites Dog (C'est arriv prs de chez vous)   \n3452      3521                                 Mystery Train   \n\n                                                 genres  year  \n33                          [Children's, Comedy, Drama]  1995  \n399                              [Comedy, Crime, Drama]  1995  \n667   [Adventure, Animation, Children's, Comedy, Fan...  1996  \n1001                        [Children's, Comedy, Drama]  1960  \n1239                         [Adventure, Comedy, Drama]  1986  \n1445                     [Action, Comedy, Crime, Drama]  1997  \n1526  [Adventure, Animation, Children's, Comedy, Mus...  1997  \n1663                    [Comedy, Crime, Drama, Mystery]  1997  \n1745                             [Comedy, Crime, Drama]  1997  \n1748                        [Children's, Comedy, Drama]  1998  \n1849                     [Action, Comedy, Crime, Drama]  1998  \n1931                     [Action, Comedy, Crime, Drama]  1987  \n1932                     [Action, Comedy, Crime, Drama]  1989  \n1933                     [Action, Comedy, Crime, Drama]  1992  \n1985   [Adventure, Children's, Comedy, Fantasy, Sci-Fi]  1989  \n2047         [Adventure, Animation, Children's, Sci-Fi]  1978  \n2069            [Animation, Children's, Drama, Fantasy]  1978  \n3115                     [Action, Comedy, Crime, Drama]  1998  \n3197                     [Action, Comedy, Crime, Drama]  1992  \n3452                             [Comedy, Crime, Drama]  1989  "
                    },
                    "execution_count": 114,
                    "metadata": {},
                    "output_type": "execute_result"
                }
            ],
            "source": "#The final recommendation table\nmovies.loc[movies['movie_id'].isin(recommendationTable_df.head(20).keys())]"
        },
        {
            "cell_type": "code",
            "execution_count": null,
            "metadata": {},
            "outputs": [],
            "source": ""
        },
        {
            "cell_type": "markdown",
            "metadata": {},
            "source": "# TATIANA SOLUTION"
        },
        {
            "cell_type": "code",
            "execution_count": 119,
            "metadata": {},
            "outputs": [
                {
                    "data": {
                        "text/html": "<div>\n<style scoped>\n    .dataframe tbody tr th:only-of-type {\n        vertical-align: middle;\n    }\n\n    .dataframe tbody tr th {\n        vertical-align: top;\n    }\n\n    .dataframe thead th {\n        text-align: right;\n    }\n</style>\n<table border=\"1\" class=\"dataframe\">\n  <thead>\n    <tr style=\"text-align: right;\">\n      <th>user_id</th>\n      <th>1</th>\n      <th>2</th>\n      <th>3</th>\n      <th>4</th>\n      <th>5</th>\n      <th>6</th>\n      <th>7</th>\n      <th>8</th>\n      <th>9</th>\n      <th>10</th>\n      <th>...</th>\n      <th>6031</th>\n      <th>6032</th>\n      <th>6033</th>\n      <th>6034</th>\n      <th>6035</th>\n      <th>6036</th>\n      <th>6037</th>\n      <th>6038</th>\n      <th>6039</th>\n      <th>6040</th>\n    </tr>\n    <tr>\n      <th>movie_id</th>\n      <th></th>\n      <th></th>\n      <th></th>\n      <th></th>\n      <th></th>\n      <th></th>\n      <th></th>\n      <th></th>\n      <th></th>\n      <th></th>\n      <th></th>\n      <th></th>\n      <th></th>\n      <th></th>\n      <th></th>\n      <th></th>\n      <th></th>\n      <th></th>\n      <th></th>\n      <th></th>\n      <th></th>\n    </tr>\n  </thead>\n  <tbody>\n    <tr>\n      <th>1</th>\n      <td>5.0</td>\n      <td>0.0</td>\n      <td>0.0</td>\n      <td>0.0</td>\n      <td>0.0</td>\n      <td>4.0</td>\n      <td>0.0</td>\n      <td>4.0</td>\n      <td>5.0</td>\n      <td>5.0</td>\n      <td>...</td>\n      <td>0.0</td>\n      <td>4.0</td>\n      <td>0.0</td>\n      <td>0.0</td>\n      <td>4.0</td>\n      <td>0.0</td>\n      <td>0.0</td>\n      <td>0.0</td>\n      <td>0.0</td>\n      <td>3.0</td>\n    </tr>\n    <tr>\n      <th>2</th>\n      <td>0.0</td>\n      <td>0.0</td>\n      <td>0.0</td>\n      <td>0.0</td>\n      <td>0.0</td>\n      <td>0.0</td>\n      <td>0.0</td>\n      <td>0.0</td>\n      <td>0.0</td>\n      <td>5.0</td>\n      <td>...</td>\n      <td>0.0</td>\n      <td>0.0</td>\n      <td>0.0</td>\n      <td>0.0</td>\n      <td>0.0</td>\n      <td>0.0</td>\n      <td>0.0</td>\n      <td>0.0</td>\n      <td>0.0</td>\n      <td>0.0</td>\n    </tr>\n    <tr>\n      <th>3</th>\n      <td>0.0</td>\n      <td>0.0</td>\n      <td>0.0</td>\n      <td>0.0</td>\n      <td>0.0</td>\n      <td>0.0</td>\n      <td>0.0</td>\n      <td>0.0</td>\n      <td>0.0</td>\n      <td>0.0</td>\n      <td>...</td>\n      <td>0.0</td>\n      <td>0.0</td>\n      <td>0.0</td>\n      <td>0.0</td>\n      <td>1.0</td>\n      <td>0.0</td>\n      <td>0.0</td>\n      <td>0.0</td>\n      <td>0.0</td>\n      <td>0.0</td>\n    </tr>\n    <tr>\n      <th>4</th>\n      <td>0.0</td>\n      <td>0.0</td>\n      <td>0.0</td>\n      <td>0.0</td>\n      <td>0.0</td>\n      <td>0.0</td>\n      <td>0.0</td>\n      <td>3.0</td>\n      <td>0.0</td>\n      <td>0.0</td>\n      <td>...</td>\n      <td>0.0</td>\n      <td>0.0</td>\n      <td>0.0</td>\n      <td>0.0</td>\n      <td>2.0</td>\n      <td>2.0</td>\n      <td>0.0</td>\n      <td>0.0</td>\n      <td>0.0</td>\n      <td>0.0</td>\n    </tr>\n    <tr>\n      <th>5</th>\n      <td>0.0</td>\n      <td>0.0</td>\n      <td>0.0</td>\n      <td>0.0</td>\n      <td>0.0</td>\n      <td>0.0</td>\n      <td>0.0</td>\n      <td>0.0</td>\n      <td>0.0</td>\n      <td>0.0</td>\n      <td>...</td>\n      <td>0.0</td>\n      <td>0.0</td>\n      <td>0.0</td>\n      <td>0.0</td>\n      <td>1.0</td>\n      <td>0.0</td>\n      <td>0.0</td>\n      <td>0.0</td>\n      <td>0.0</td>\n      <td>0.0</td>\n    </tr>\n  </tbody>\n</table>\n<p>5 rows \u00d7 6040 columns</p>\n</div>",
                        "text/plain": "user_id   1     2     3     4     5     6     7     8     9     10    ...  \\\nmovie_id                                                              ...   \n1          5.0   0.0   0.0   0.0   0.0   4.0   0.0   4.0   5.0   5.0  ...   \n2          0.0   0.0   0.0   0.0   0.0   0.0   0.0   0.0   0.0   5.0  ...   \n3          0.0   0.0   0.0   0.0   0.0   0.0   0.0   0.0   0.0   0.0  ...   \n4          0.0   0.0   0.0   0.0   0.0   0.0   0.0   3.0   0.0   0.0  ...   \n5          0.0   0.0   0.0   0.0   0.0   0.0   0.0   0.0   0.0   0.0  ...   \n\nuser_id   6031  6032  6033  6034  6035  6036  6037  6038  6039  6040  \nmovie_id                                                              \n1          0.0   4.0   0.0   0.0   4.0   0.0   0.0   0.0   0.0   3.0  \n2          0.0   0.0   0.0   0.0   0.0   0.0   0.0   0.0   0.0   0.0  \n3          0.0   0.0   0.0   0.0   1.0   0.0   0.0   0.0   0.0   0.0  \n4          0.0   0.0   0.0   0.0   2.0   2.0   0.0   0.0   0.0   0.0  \n5          0.0   0.0   0.0   0.0   1.0   0.0   0.0   0.0   0.0   0.0  \n\n[5 rows x 6040 columns]"
                    },
                    "execution_count": 119,
                    "metadata": {},
                    "output_type": "execute_result"
                }
            ],
            "source": "final_dataset = ratings.pivot(index='movie_id',columns='user_id',values='rating')\nfinal_dataset.fillna(0,inplace=True)\nfinal_dataset.head()"
        },
        {
            "cell_type": "code",
            "execution_count": null,
            "metadata": {},
            "outputs": [],
            "source": ""
        }
    ],
    "metadata": {
        "kernelspec": {
            "display_name": "Python 3.7",
            "language": "python",
            "name": "python3"
        },
        "language_info": {
            "codemirror_mode": {
                "name": "ipython",
                "version": 3
            },
            "file_extension": ".py",
            "mimetype": "text/x-python",
            "name": "python",
            "nbconvert_exporter": "python",
            "pygments_lexer": "ipython3",
            "version": "3.7.11"
        }
    },
    "nbformat": 4,
    "nbformat_minor": 1
}